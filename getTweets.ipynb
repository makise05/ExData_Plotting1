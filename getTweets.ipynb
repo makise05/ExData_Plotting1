{
  "nbformat": 4,
  "nbformat_minor": 0,
  "metadata": {
    "colab": {
      "name": "getTweets.ipynb",
      "provenance": [],
      "toc_visible": true,
      "authorship_tag": "ABX9TyOnCS4GNCWHhJoCocal/6L7",
      "include_colab_link": true
    },
    "kernelspec": {
      "name": "ir",
      "display_name": "R"
    },
    "accelerator": "GPU"
  },
  "cells": [
    {
      "cell_type": "markdown",
      "metadata": {
        "id": "view-in-github",
        "colab_type": "text"
      },
      "source": [
        "<a href=\"https://colab.research.google.com/github/makise05/ExData_Plotting1/blob/master/getTweets.ipynb\" target=\"_parent\"><img src=\"https://colab.research.google.com/assets/colab-badge.svg\" alt=\"Open In Colab\"/></a>"
      ]
    },
    {
      "cell_type": "markdown",
      "metadata": {
        "id": "05a8C0nn4uh5",
        "colab_type": "text"
      },
      "source": [
        "# **Data collection adquisition**"
      ]
    },
    {
      "cell_type": "markdown",
      "metadata": {
        "id": "sElzEGQc44nU",
        "colab_type": "text"
      },
      "source": [
        "**Install libraries**"
      ]
    },
    {
      "cell_type": "code",
      "metadata": {
        "id": "v02Q4XnH61Ce",
        "colab_type": "code",
        "colab": {}
      },
      "source": [
        "\n",
        "Sys.setenv(PATH= paste(\"/conda/bin\" , Sys.getenv(\"PATH\"), sep = \":\" ) )\n",
        "install.packages('ggmap', repos='http://cran.rstudio.com/')\n",
        "install.packages('httr', repos='http://cran.rstudio.com/')\n",
        "install.packages('rtweet', repos='http://cran.rstudio.com/')\n",
        "install.packages('ggplot2', repos='http://cran.rstudio.com/')\n",
        "install.packages('maps', repos='http://cran.rstudio.com/')\n",
        "install.packages('mapdata', repos='http://cran.rstudio.com/')\n",
        "install.packages('ROAuth', repos='http://cran.rstudio.com/')\n",
        "install.packages('raster', repos='http://cran.rstudio.com/')\n",
        "install.packages('tidyr', repos='http://cran.rstudio.com/')\n",
        "install.packages('twitter', repos='http://cran.rstudio.com/')\n",
        "install.packages('raster', repos='http://cran.rstudio.com/')"
      ],
      "execution_count": 0,
      "outputs": []
    },
    {
      "cell_type": "markdown",
      "metadata": {
        "id": "IgTt3G0D9wlt",
        "colab_type": "text"
      },
      "source": [
        "**Import Lilbraries**\n"
      ]
    },
    {
      "cell_type": "code",
      "metadata": {
        "id": "vH_tzDjS5SGf",
        "colab_type": "code",
        "colab": {}
      },
      "source": [
        "library(ROAuth)\n",
        "library(httr)\n",
        "library(rtweet)\n",
        "library(ggplot2)\n",
        "library(maps)\n",
        "library(mapdata)\n",
        "library(raster)\n",
        "library(tidyr)\n",
        "library(raster)"
      ],
      "execution_count": 0,
      "outputs": []
    },
    {
      "cell_type": "markdown",
      "metadata": {
        "id": "UC9Iv3rf92Sw",
        "colab_type": "text"
      },
      "source": [
        "**Set Path** **texto en negrita**"
      ]
    },
    {
      "cell_type": "code",
      "metadata": {
        "id": "cfgv8yyN-Erm",
        "colab_type": "code",
        "colab": {}
      },
      "source": [
        "setwd(\"/tmp/data\")\n",
        "getwd()"
      ],
      "execution_count": 0,
      "outputs": []
    },
    {
      "cell_type": "markdown",
      "metadata": {
        "id": "De5dH5KO-Cmu",
        "colab_type": "text"
      },
      "source": [
        "**Set Twitter Tokens**\n"
      ]
    },
    {
      "cell_type": "code",
      "metadata": {
        "id": "LKCcV_yX-OXt",
        "colab_type": "code",
        "colab": {}
      },
      "source": [
        "#Arguments\n",
        "#First argument: consumer key\n",
        "#Second: consumer secret\n",
        "#Third argumento: access token\n",
        "#Fourth argumento: access token secret\n",
        "\n",
        "create_token(\n",
        "app = \"mk_analytica\",\n",
        "consumer_key = \"hO6Jq4y1XjrFh3NRaLaZuk1HB\",\n",
        "consumer_secret = \"f2blcNCByMpN5vajUu3929KLcvnW5uGlEVot9ME1GSxY4BeqHi\",\n",
        "access_token = \"887869051258642432-8hL3iSrR0h7k0Ds5YDgnXA4Mz92PK3n\",\n",
        "access_secret = \"Gj1jsfCeBuPUX45WwFCmBkpbUgVv53LCmeLCZM4PqR1de\")"
      ],
      "execution_count": 0,
      "outputs": []
    },
    {
      "cell_type": "markdown",
      "metadata": {
        "id": "fAvpgyQp-Sq5",
        "colab_type": "text"
      },
      "source": [
        "**Set serach token(s)**"
      ]
    },
    {
      "cell_type": "code",
      "metadata": {
        "id": "SKWRSNOeCLhh",
        "colab_type": "code",
        "colab": {}
      },
      "source": [
        "token=\"acoso sexual\"\n",
        "token"
      ],
      "execution_count": 0,
      "outputs": []
    },
    {
      "cell_type": "code",
      "metadata": {
        "id": "JshS3znH-cSa",
        "colab_type": "code",
        "colab": {}
      },
      "source": [
        "List <- search_tweets(\"acoso\", \n",
        "                       n=100000000,\n",
        "                       retryonratelimit = TRUE,\n",
        "                       full_text = TRUE,\n",
        "                       include_rts = FALSE,\n",
        "                       geocode='23.927576,-102.188678,1753km',\n",
        "                       lang = \"es\")"
      ],
      "execution_count": 0,
      "outputs": []
    },
    {
      "cell_type": "markdown",
      "metadata": {
        "id": "jy5SJLwYAC5K",
        "colab_type": "text"
      },
      "source": [
        "**Save data into cvs file**"
      ]
    },
    {
      "cell_type": "code",
      "metadata": {
        "id": "UHnL7RvsAzz6",
        "colab_type": "code",
        "colab": {}
      },
      "source": [
        "#Getting in a list\n",
        "tweetsL <- data.frame(List)\n",
        "#paste(getwd(),\"nombre de archivo\",sep=\"/\")\n",
        "twFile = data.frame(lapply(tweetsL, as.character), stringsAsFactors=FALSE)\n",
        "#Save into a File\n",
        "tweets <- write.csv(twFile,paste(getwd(),'test.csv',sep=\"/\"),fileEncoding = 'Latin-1')"
      ],
      "execution_count": 0,
      "outputs": []
    },
    {
      "cell_type": "code",
      "metadata": {
        "id": "wpdqbxgFPYfw",
        "colab_type": "code",
        "colab": {}
      },
      "source": [
        ""
      ],
      "execution_count": 0,
      "outputs": []
    }
  ]
}